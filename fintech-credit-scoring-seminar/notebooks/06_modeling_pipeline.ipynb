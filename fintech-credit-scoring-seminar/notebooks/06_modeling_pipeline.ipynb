{
 "cells": [
  {
   "cell_type": "markdown",
   "metadata": {},
   "source": [
    "# Credit Default Modeling: Logistic Regression and XGBoost\n",
    "\n",
    "This notebook evaluates credit default risk using logistic regression and XGBoost.  \n",
    "We handle highly imbalanced data (defaults are rare), categorical variables, and evaluate models with AUC and confusion matrix.\n",
    "\n",
    "* **Input:** Final preprocessed dataset (`.csv`), with one target column.\n",
    "* **Models:** Logistic Regression (baseline, interpretable), XGBoost (state-of-the-art, robust for tabular/imbalanced data).\n",
    "* **Key Steps:**  \n",
    "  - Data load and exploration  \n",
    "  - Categorical variable encoding  \n",
    "  - Train/test split (stratified)  \n",
    "  - Model training  \n",
    "  - Model evaluation  \n",
    "  - Feature importance review\n"
   ]
  },
  {
   "cell_type": "markdown",
   "metadata": {},
   "source": [
    "## Load Data\n",
    "\n",
    "We load the prepared, subsampled dataset. For synthetic sets, use `DEFAULT_SYNTH` as the target; for HomeCredit, use `TARGET`.\n"
   ]
  },
  {
   "cell_type": "code",
   "execution_count": 31,
   "metadata": {},
   "outputs": [
    {
     "name": "stdout",
     "output_type": "stream",
     "text": [
      "(100000, 18)\n"
     ]
    },
    {
     "data": {
      "text/html": [
       "<div>\n",
       "<style scoped>\n",
       "    .dataframe tbody tr th:only-of-type {\n",
       "        vertical-align: middle;\n",
       "    }\n",
       "\n",
       "    .dataframe tbody tr th {\n",
       "        vertical-align: top;\n",
       "    }\n",
       "\n",
       "    .dataframe thead th {\n",
       "        text-align: right;\n",
       "    }\n",
       "</style>\n",
       "<table border=\"1\" class=\"dataframe\">\n",
       "  <thead>\n",
       "    <tr style=\"text-align: right;\">\n",
       "      <th></th>\n",
       "      <th>age</th>\n",
       "      <th>order_amount</th>\n",
       "      <th>age_quintile</th>\n",
       "      <th>order_amount_quintile</th>\n",
       "      <th>credit_score_quintile</th>\n",
       "      <th>device_type</th>\n",
       "      <th>os</th>\n",
       "      <th>email_host</th>\n",
       "      <th>channel</th>\n",
       "      <th>checkout_time</th>\n",
       "      <th>name_in_email</th>\n",
       "      <th>number_in_email</th>\n",
       "      <th>is_lowercase</th>\n",
       "      <th>email_error</th>\n",
       "      <th>item_category</th>\n",
       "      <th>month</th>\n",
       "      <th>gender</th>\n",
       "      <th>TARGET</th>\n",
       "    </tr>\n",
       "  </thead>\n",
       "  <tbody>\n",
       "    <tr>\n",
       "      <th>0</th>\n",
       "      <td>60</td>\n",
       "      <td>294.75</td>\n",
       "      <td>Q2</td>\n",
       "      <td>Q5</td>\n",
       "      <td>Q3</td>\n",
       "      <td>Mobile</td>\n",
       "      <td>iOS</td>\n",
       "      <td>T-Online</td>\n",
       "      <td>Do-not-track</td>\n",
       "      <td>Morning</td>\n",
       "      <td>No</td>\n",
       "      <td>No</td>\n",
       "      <td>No</td>\n",
       "      <td>No</td>\n",
       "      <td>Cat11</td>\n",
       "      <td>Dec15</td>\n",
       "      <td>Male</td>\n",
       "      <td>0</td>\n",
       "    </tr>\n",
       "    <tr>\n",
       "      <th>1</th>\n",
       "      <td>33</td>\n",
       "      <td>304.68</td>\n",
       "      <td>Q4</td>\n",
       "      <td>Q5</td>\n",
       "      <td>Q3</td>\n",
       "      <td>Desktop</td>\n",
       "      <td>Windows</td>\n",
       "      <td>Web</td>\n",
       "      <td>Other</td>\n",
       "      <td>Morning</td>\n",
       "      <td>Yes</td>\n",
       "      <td>Yes</td>\n",
       "      <td>No</td>\n",
       "      <td>No</td>\n",
       "      <td>Cat15</td>\n",
       "      <td>May16</td>\n",
       "      <td>Female</td>\n",
       "      <td>0</td>\n",
       "    </tr>\n",
       "    <tr>\n",
       "      <th>2</th>\n",
       "      <td>45</td>\n",
       "      <td>298.05</td>\n",
       "      <td>Q5</td>\n",
       "      <td>Q1</td>\n",
       "      <td>Q4</td>\n",
       "      <td>Do-not-track</td>\n",
       "      <td>Do-not-track</td>\n",
       "      <td>Other</td>\n",
       "      <td>Organic</td>\n",
       "      <td>Afternoon</td>\n",
       "      <td>Yes</td>\n",
       "      <td>No</td>\n",
       "      <td>No</td>\n",
       "      <td>Yes</td>\n",
       "      <td>Cat3</td>\n",
       "      <td>Dec16</td>\n",
       "      <td>Male</td>\n",
       "      <td>0</td>\n",
       "    </tr>\n",
       "    <tr>\n",
       "      <th>3</th>\n",
       "      <td>31</td>\n",
       "      <td>282.78</td>\n",
       "      <td>Q3</td>\n",
       "      <td>Q5</td>\n",
       "      <td>Q5</td>\n",
       "      <td>Desktop</td>\n",
       "      <td>Windows</td>\n",
       "      <td>Other</td>\n",
       "      <td>Paid</td>\n",
       "      <td>Afternoon</td>\n",
       "      <td>Yes</td>\n",
       "      <td>No</td>\n",
       "      <td>No</td>\n",
       "      <td>No</td>\n",
       "      <td>Cat11</td>\n",
       "      <td>Nov15</td>\n",
       "      <td>Female</td>\n",
       "      <td>0</td>\n",
       "    </tr>\n",
       "    <tr>\n",
       "      <th>4</th>\n",
       "      <td>40</td>\n",
       "      <td>257.03</td>\n",
       "      <td>Q1</td>\n",
       "      <td>Q2</td>\n",
       "      <td>Q1</td>\n",
       "      <td>Do-not-track</td>\n",
       "      <td>Macintosh</td>\n",
       "      <td>Web</td>\n",
       "      <td>Paid</td>\n",
       "      <td>Afternoon</td>\n",
       "      <td>Yes</td>\n",
       "      <td>No</td>\n",
       "      <td>No</td>\n",
       "      <td>No</td>\n",
       "      <td>Cat9</td>\n",
       "      <td>Nov16</td>\n",
       "      <td>Female</td>\n",
       "      <td>0</td>\n",
       "    </tr>\n",
       "  </tbody>\n",
       "</table>\n",
       "</div>"
      ],
      "text/plain": [
       "   age  order_amount age_quintile order_amount_quintile credit_score_quintile  \\\n",
       "0   60        294.75           Q2                    Q5                    Q3   \n",
       "1   33        304.68           Q4                    Q5                    Q3   \n",
       "2   45        298.05           Q5                    Q1                    Q4   \n",
       "3   31        282.78           Q3                    Q5                    Q5   \n",
       "4   40        257.03           Q1                    Q2                    Q1   \n",
       "\n",
       "    device_type            os email_host       channel checkout_time  \\\n",
       "0        Mobile           iOS   T-Online  Do-not-track       Morning   \n",
       "1       Desktop       Windows        Web         Other       Morning   \n",
       "2  Do-not-track  Do-not-track      Other       Organic     Afternoon   \n",
       "3       Desktop       Windows      Other          Paid     Afternoon   \n",
       "4  Do-not-track     Macintosh        Web          Paid     Afternoon   \n",
       "\n",
       "  name_in_email number_in_email is_lowercase email_error item_category  month  \\\n",
       "0            No              No           No          No         Cat11  Dec15   \n",
       "1           Yes             Yes           No          No         Cat15  May16   \n",
       "2           Yes              No           No         Yes          Cat3  Dec16   \n",
       "3           Yes              No           No          No         Cat11  Nov15   \n",
       "4           Yes              No           No          No          Cat9  Nov16   \n",
       "\n",
       "   gender  TARGET  \n",
       "0    Male       0  \n",
       "1  Female       0  \n",
       "2    Male       0  \n",
       "3  Female       0  \n",
       "4  Female       0  "
      ]
     },
     "execution_count": 31,
     "metadata": {},
     "output_type": "execute_result"
    }
   ],
   "source": [
    "import pandas as pd\n",
    "df = pd.read_csv(\"/home/frederickerleigh/Dokumente/Fintech Seminar/NewCode/FintechSeminar-Synthetic-Dataset/fintech-credit-scoring-seminar/data/processed/synthetic_digital_footprint_with_target.csv\")  # Swap file as needed\n",
    "print(df.shape)\n",
    "df.head()\n"
   ]
  },
  {
   "cell_type": "markdown",
   "metadata": {},
   "source": [
    "## Variable Preparation & Categorical Encoding\n",
    "\n",
    "Categorical variables are converted to 0/1 dummy variables via one-hot encoding (excluding the reference category for each).  \n",
    "This allows the model to interpret all category effects and avoids collinearity.  \n"
   ]
  },
  {
   "cell_type": "code",
   "execution_count": 32,
   "metadata": {},
   "outputs": [
    {
     "name": "stdout",
     "output_type": "stream",
     "text": [
      "Encoded features shape: (100000, 70)\n"
     ]
    }
   ],
   "source": [
    "# Select the target column dynamically\n",
    "target_col = 'DEFAULT_SYNTH' if 'DEFAULT_SYNTH' in df.columns else 'TARGET'\n",
    "\n",
    "# Separate features and target\n",
    "X = df.drop(columns=[target_col])\n",
    "y = df[target_col]\n",
    "\n",
    "# One-hot encode (dummy variables, drop first to set reference)\n",
    "X = pd.get_dummies(X, drop_first=True)\n",
    "print(\"Encoded features shape:\", X.shape)\n"
   ]
  },
  {
   "cell_type": "markdown",
   "metadata": {},
   "source": [
    "## Stratified Train/Test Split\n",
    "\n",
    "To maintain class imbalance in both sets, we use stratified splitting.\n"
   ]
  },
  {
   "cell_type": "code",
   "execution_count": 33,
   "metadata": {},
   "outputs": [
    {
     "name": "stdout",
     "output_type": "stream",
     "text": [
      "Train size: 70000 Test size: 30000\n",
      "Defaults in train: 654 in test: 280\n"
     ]
    }
   ],
   "source": [
    "from sklearn.model_selection import train_test_split\n",
    "\n",
    "X_train, X_test, y_train, y_test = train_test_split(\n",
    "    X, y, test_size=0.3, stratify=y, random_state=42\n",
    ")\n",
    "print(\"Train size:\", X_train.shape[0], \"Test size:\", X_test.shape[0])\n",
    "print(\"Defaults in train:\", y_train.sum(), \"in test:\", y_test.sum())\n"
   ]
  },
  {
   "cell_type": "markdown",
   "metadata": {},
   "source": [
    "## Logistic Regression\n",
    "\n",
    "A logistic regression model predicts the probability of default (\\(P(y=1)\\)) as a function of the input variables.\n",
    "\n",
    "**Model Formula:**\n",
    "\n",
    "\\[\n",
    "\\log\\left(\\frac{P(y=1)}{1-P(y=1)}\\right) = \\beta_0 + \\sum_{j=1}^{k} \\beta_j X_j\n",
    "\\]\n",
    "\n",
    "- \\(P(y=1)\\): Probability of default.\n",
    "- \\(X_j\\): Feature \\(j\\) (including 0/1 dummy variables for categories).\n",
    "- \\(\\beta_j\\): Estimated coefficient for feature \\(j\\).\n",
    "\n",
    "We use `class_weight='balanced'` to handle the rare default class.\n"
   ]
  },
  {
   "cell_type": "code",
   "execution_count": 34,
   "metadata": {},
   "outputs": [],
   "source": [
    "from sklearn.linear_model import LogisticRegression\n",
    "\n",
    "clf = LogisticRegression(max_iter=1000, class_weight='balanced', random_state=42)\n",
    "clf.fit(X_train, y_train)\n",
    "y_pred = clf.predict(X_test)\n",
    "y_proba = clf.predict_proba(X_test)[:, 1]\n"
   ]
  },
  {
   "cell_type": "markdown",
   "metadata": {},
   "source": [
    "## Model Evaluation\n",
    "\n",
    "We use AUC, confusion matrix, and a detailed classification report.  \n",
    "A precision-recall curve is also shown (important for rare-event settings).\n"
   ]
  },
  {
   "cell_type": "code",
   "execution_count": 35,
   "metadata": {},
   "outputs": [
    {
     "name": "stdout",
     "output_type": "stream",
     "text": [
      "AUC: 0.5209\n",
      "Confusion Matrix:\n",
      " [[16692 13028]\n",
      " [  146   134]]\n",
      "Classification Report:\n",
      "               precision    recall  f1-score   support\n",
      "\n",
      "           0     0.9913    0.5616    0.7170     29720\n",
      "           1     0.0102    0.4786    0.0199       280\n",
      "\n",
      "    accuracy                         0.5609     30000\n",
      "   macro avg     0.5008    0.5201    0.3685     30000\n",
      "weighted avg     0.9822    0.5609    0.7105     30000\n",
      "\n"
     ]
    },
    {
     "data": {
      "image/png": "[encoded data removed]",
      "text/plain": [
       "<Figure size 600x400 with 1 Axes>"
      ]
     },
     "metadata": {},
     "output_type": "display_data"
    }
   ],
   "source": [
    "from sklearn.metrics import roc_auc_score, confusion_matrix, classification_report, precision_recall_curve\n",
    "import matplotlib.pyplot as plt\n",
    "\n",
    "print(\"AUC: {:.4f}\".format(roc_auc_score(y_test, y_proba)))\n",
    "print(\"Confusion Matrix:\\n\", confusion_matrix(y_test, y_pred))\n",
    "print(\"Classification Report:\\n\", classification_report(y_test, y_pred, digits=4))\n",
    "\n",
    "precision, recall, thresholds = precision_recall_curve(y_test, y_proba)\n",
    "plt.figure(figsize=(6,4))\n",
    "plt.plot(recall, precision, marker='.')\n",
    "plt.xlabel(\"Recall\")\n",
    "plt.ylabel(\"Precision\")\n",
    "plt.title(\"Precision-Recall Curve\")\n",
    "plt.grid(True)\n",
    "plt.show()\n"
   ]
  },
  {
   "cell_type": "markdown",
   "metadata": {},
   "source": [
    "## Feature Importances\n",
    "\n",
    "Interpret which features (including dummies for categories) are most influential for default prediction.\n"
   ]
  },
  {
   "cell_type": "code",
   "execution_count": 36,
   "metadata": {},
   "outputs": [
    {
     "data": {
      "text/plain": [
       "item_category_Cat6          0.564773\n",
       "email_host_Yahoo            0.493543\n",
       "os_Other                    0.482738\n",
       "month_Jun16                 0.461007\n",
       "item_category_Cat14         0.415680\n",
       "item_category_Cat13         0.382228\n",
       "month_Dec15                 0.349744\n",
       "order_amount_quintile_Q2    0.345071\n",
       "month_May16                 0.327414\n",
       "checkout_time_Night         0.307784\n",
       "month_Nov15                 0.294335\n",
       "credit_score_quintile_Q5    0.291432\n",
       "item_category_Cat5          0.286475\n",
       "item_category_Cat11         0.283353\n",
       "month_Sep16                 0.272444\n",
       "item_category_Cat2          0.272072\n",
       "channel_Do-not-track        0.261979\n",
       "item_category_Cat12         0.251808\n",
       "device_type_Mobile          0.246319\n",
       "month_Aug16                 0.240732\n",
       "dtype: float64"
      ]
     },
     "execution_count": 36,
     "metadata": {},
     "output_type": "execute_result"
    }
   ],
   "source": [
    "coefs = pd.Series(clf.coef_[0], index=X.columns)\n",
    "coefs.abs().sort_values(ascending=False).head(20)\n"
   ]
  },
  {
   "cell_type": "markdown",
   "metadata": {},
   "source": [
    "## XGBoost\n",
    "\n",
    "We fit an XGBoost classifier, which is robust to class imbalance, non-linearities, and categorical variable encoding (after one-hot/dummy transform).\n"
   ]
  },
  {
   "cell_type": "code",
   "execution_count": 37,
   "metadata": {},
   "outputs": [
    {
     "name": "stderr",
     "output_type": "stream",
     "text": [
      "/home/frederickerleigh/Dokumente/Fintech Seminar/NewCode/venv/lib/python3.10/site-packages/xgboost/training.py:183: UserWarning: [15:52:32] WARNING: /workspace/src/learner.cc:738: \n",
      "Parameters: { \"use_label_encoder\" } are not used.\n",
      "\n",
      "  bst.update(dtrain, iteration=i, fobj=obj)\n"
     ]
    },
    {
     "name": "stdout",
     "output_type": "stream",
     "text": [
      "XGBoost AUC: 0.4952\n",
      "XGBoost Confusion Matrix:\n",
      " [[28529  1191]\n",
      " [  275     5]]\n",
      "XGBoost Report:\n",
      "               precision    recall  f1-score   support\n",
      "\n",
      "           0     0.9905    0.9599    0.9750     29720\n",
      "           1     0.0042    0.0179    0.0068       280\n",
      "\n",
      "    accuracy                         0.9511     30000\n",
      "   macro avg     0.4973    0.4889    0.4909     30000\n",
      "weighted avg     0.9812    0.9511    0.9659     30000\n",
      "\n"
     ]
    }
   ],
   "source": [
    "import xgboost as xgb\n",
    "\n",
    "xgb_clf = xgb.XGBClassifier(\n",
    "    objective='binary:logistic',\n",
    "    scale_pos_weight=(len(y_train) - y_train.sum()) / y_train.sum(),  # balances classes\n",
    "    eval_metric='auc',\n",
    "    use_label_encoder=False,\n",
    "    random_state=42\n",
    ")\n",
    "xgb_clf.fit(X_train, y_train)\n",
    "y_xgb_pred = xgb_clf.predict(X_test)\n",
    "y_xgb_proba = xgb_clf.predict_proba(X_test)[:, 1]\n",
    "print(\"XGBoost AUC: {:.4f}\".format(roc_auc_score(y_test, y_xgb_proba)))\n",
    "print(\"XGBoost Confusion Matrix:\\n\", confusion_matrix(y_test, y_xgb_pred))\n",
    "print(\"XGBoost Report:\\n\", classification_report(y_test, y_xgb_pred, digits=4))\n"
   ]
  },
  {
   "cell_type": "markdown",
   "metadata": {},
   "source": [
    "## Model Comparison and Interpretation\n",
    "\n",
    "- **Logistic Regression** is interpretable, robust, and standard in the field.\n",
    "- **XGBoost** may yield higher predictive performance (especially for rare defaults) but is less interpretable.\n",
    "- All categorical variables are handled by one-hot encoding (reference categories omitted).\n",
    "- Evaluation metrics (AUC, precision, recall, confusion matrix) are shown for both.\n",
    "\n",
    "> *Use AUC for model ranking; check confusion matrices and precision-recall for business relevance!*\n"
   ]
  }
 ],
 "metadata": {
  "kernelspec": {
   "display_name": "venv",
   "language": "python",
   "name": "python3"
  },
  "language_info": {
   "codemirror_mode": {
    "name": "ipython",
    "version": 3
   },
   "file_extension": ".py",
   "mimetype": "text/x-python",
   "name": "python",
   "nbconvert_exporter": "python",
   "pygments_lexer": "ipython3",
   "version": "3.10.12"
  }
 },
 "nbformat": 4,
 "nbformat_minor": 2
}
