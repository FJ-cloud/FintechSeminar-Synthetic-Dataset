{
 "cells": [
  {
   "cell_type": "markdown",
   "metadata": {},
   "source": [
    "# 05: Finalize and Clean Merged Datasets\n",
    "\n",
    "This notebook standardizes the target column in each merged dataset (manual, copula, CTGAN), ensuring that only one clear `TARGET` variable exists for modeling. After this step, all datasets are ready for further encoding or modeling.\n"
   ]
  },
  {
   "cell_type": "code",
   "execution_count": 8,
   "metadata": {},
   "outputs": [],
   "source": [
    "import pandas as pd\n"
   ]
  },
  {
   "cell_type": "code",
   "execution_count": 9,
   "metadata": {},
   "outputs": [
    {
     "name": "stdout",
     "output_type": "stream",
     "text": [
      "Loaded merged datasets.\n"
     ]
    }
   ],
   "source": [
    "# Adjust file paths as needed\n",
    "merged_manual = pd.read_csv(\"/home/frederickerleigh/Dokumente/Fintech Seminar/NewCode/FintechSeminar-Synthetic-Dataset/fintech-credit-scoring-seminar/data/processed/merged/merged_homecredit_manual_fp.csv\")\n",
    "merged_copula = pd.read_csv(\"/home/frederickerleigh/Dokumente/Fintech Seminar/NewCode/FintechSeminar-Synthetic-Dataset/fintech-credit-scoring-seminar/data/processed/merged/merged_homecredit_copula_fp.csv\")\n",
    "merged_ctgan = pd.read_csv(\"/home/frederickerleigh/Dokumente/Fintech Seminar/NewCode/FintechSeminar-Synthetic-Dataset/fintech-credit-scoring-seminar/data/processed/merged/merged_homecredit_ctgan_fp.csv\")\n",
    "print(\"Loaded merged datasets.\")\n"
   ]
  },
  {
   "cell_type": "markdown",
   "metadata": {},
   "source": [
    "Inspect Columns Before Cleaning"
   ]
  },
  {
   "cell_type": "code",
   "execution_count": 10,
   "metadata": {},
   "outputs": [
    {
     "name": "stdout",
     "output_type": "stream",
     "text": [
      "Manual columns: ['home_EXT_SOURCE_1', 'home_EXT_SOURCE_2', 'home_EXT_SOURCE_3', 'home_AMT_CREDIT', 'home_AMT_ANNUITY', 'home_AMT_GOODS_PRICE', 'home_DAYS_BIRTH', 'home_CODE_GENDER', 'home_CNT_CHILDREN', 'home_CNT_FAM_MEMBERS', 'home_NAME_EDUCATION_TYPE', 'home_NAME_FAMILY_STATUS', 'home_NAME_HOUSING_TYPE', 'home_NAME_INCOME_TYPE', 'home_AMT_INCOME_TOTAL', 'home_REGION_POPULATION_RELATIVE', 'home_REGION_RATING_CLIENT', 'home_REGION_RATING_CLIENT_W_CITY', 'home_DAYS_EMPLOYED', 'home_DAYS_REGISTRATION', 'home_DAYS_ID_PUBLISH', 'home_FLAG_MOBIL', 'home_FLAG_EMP_PHONE', 'home_FLAG_WORK_PHONE', 'home_FLAG_EMAIL', 'home_WEEKDAY_APPR_PROCESS_START', 'home_HOUR_APPR_PROCESS_START', 'home_REG_REGION_NOT_LIVE_REGION', 'home_REG_REGION_NOT_WORK_REGION', 'home_LIVE_REGION_NOT_WORK_REGION', 'home_REG_CITY_NOT_LIVE_CITY', 'home_REG_CITY_NOT_WORK_CITY', 'home_LIVE_CITY_NOT_WORK_CITY', 'home_TARGET', 'synth_device_type', 'synth_os', 'synth_email_host', 'synth_channel', 'synth_checkout_time', 'synth_name_in_email', 'synth_number_in_email', 'synth_is_lowercase', 'synth_email_error', 'synth_DEFAULT_SYNTH']\n",
      "Copula columns: ['home_EXT_SOURCE_1', 'home_EXT_SOURCE_2', 'home_EXT_SOURCE_3', 'home_AMT_CREDIT', 'home_AMT_ANNUITY', 'home_AMT_GOODS_PRICE', 'home_DAYS_BIRTH', 'home_CODE_GENDER', 'home_CNT_CHILDREN', 'home_CNT_FAM_MEMBERS', 'home_NAME_EDUCATION_TYPE', 'home_NAME_FAMILY_STATUS', 'home_NAME_HOUSING_TYPE', 'home_NAME_INCOME_TYPE', 'home_AMT_INCOME_TOTAL', 'home_REGION_POPULATION_RELATIVE', 'home_REGION_RATING_CLIENT', 'home_REGION_RATING_CLIENT_W_CITY', 'home_DAYS_EMPLOYED', 'home_DAYS_REGISTRATION', 'home_DAYS_ID_PUBLISH', 'home_FLAG_MOBIL', 'home_FLAG_EMP_PHONE', 'home_FLAG_WORK_PHONE', 'home_FLAG_EMAIL', 'home_WEEKDAY_APPR_PROCESS_START', 'home_HOUR_APPR_PROCESS_START', 'home_REG_REGION_NOT_LIVE_REGION', 'home_REG_REGION_NOT_WORK_REGION', 'home_LIVE_REGION_NOT_WORK_REGION', 'home_REG_CITY_NOT_LIVE_CITY', 'home_REG_CITY_NOT_WORK_CITY', 'home_LIVE_CITY_NOT_WORK_CITY', 'home_TARGET', 'synth_device_type', 'synth_os', 'synth_email_host', 'synth_channel', 'synth_checkout_time', 'synth_name_in_email', 'synth_number_in_email', 'synth_is_lowercase', 'synth_email_error', 'synth_DEFAULT_SYNTH']\n",
      "CTGAN columns: ['home_EXT_SOURCE_1', 'home_EXT_SOURCE_2', 'home_EXT_SOURCE_3', 'home_AMT_CREDIT', 'home_AMT_ANNUITY', 'home_AMT_GOODS_PRICE', 'home_DAYS_BIRTH', 'home_CODE_GENDER', 'home_CNT_CHILDREN', 'home_CNT_FAM_MEMBERS', 'home_NAME_EDUCATION_TYPE', 'home_NAME_FAMILY_STATUS', 'home_NAME_HOUSING_TYPE', 'home_NAME_INCOME_TYPE', 'home_AMT_INCOME_TOTAL', 'home_REGION_POPULATION_RELATIVE', 'home_REGION_RATING_CLIENT', 'home_REGION_RATING_CLIENT_W_CITY', 'home_DAYS_EMPLOYED', 'home_DAYS_REGISTRATION', 'home_DAYS_ID_PUBLISH', 'home_FLAG_MOBIL', 'home_FLAG_EMP_PHONE', 'home_FLAG_WORK_PHONE', 'home_FLAG_EMAIL', 'home_WEEKDAY_APPR_PROCESS_START', 'home_HOUR_APPR_PROCESS_START', 'home_REG_REGION_NOT_LIVE_REGION', 'home_REG_REGION_NOT_WORK_REGION', 'home_LIVE_REGION_NOT_WORK_REGION', 'home_REG_CITY_NOT_LIVE_CITY', 'home_REG_CITY_NOT_WORK_CITY', 'home_LIVE_CITY_NOT_WORK_CITY', 'home_TARGET', 'synth_device_type', 'synth_os', 'synth_email_host', 'synth_channel', 'synth_checkout_time', 'synth_name_in_email', 'synth_number_in_email', 'synth_is_lowercase', 'synth_email_error', 'synth_DEFAULT_SYNTH']\n"
     ]
    }
   ],
   "source": [
    "print(\"Manual columns:\", merged_manual.columns.tolist())\n",
    "print(\"Copula columns:\", merged_copula.columns.tolist())\n",
    "print(\"CTGAN columns:\", merged_ctgan.columns.tolist())\n"
   ]
  },
  {
   "cell_type": "markdown",
   "metadata": {},
   "source": [
    "Clean Up—Keep Only One TARGET Column"
   ]
  },
  {
   "cell_type": "code",
   "execution_count": 11,
   "metadata": {},
   "outputs": [
    {
     "name": "stdout",
     "output_type": "stream",
     "text": [
      "Target columns standardized.\n"
     ]
    }
   ],
   "source": [
    "# This will:\n",
    "# - Drop any duplicate target columns (e.g., DEFAULT_SYNTH)\n",
    "# - Rename 'home_TARGET' to 'TARGET' if needed\n",
    "# - Ensures 'TARGET' is the only target column left\n",
    "\n",
    "def standardize_target(df):\n",
    "    # Find columns to drop (e.g., any column with 'DEFAULT' or 'SYNTH', except 'home_TARGET' or 'TARGET')\n",
    "    drop_cols = [col for col in df.columns if (\n",
    "        ('DEFAULT' in col.upper() or 'SYNTH' in col.upper())\n",
    "        and col not in ['home_TARGET', 'TARGET'])]\n",
    "    df = df.drop(columns=drop_cols)\n",
    "    # Rename 'home_TARGET' to 'TARGET' if present\n",
    "    if 'home_TARGET' in df.columns:\n",
    "        df = df.rename(columns={'home_TARGET': 'TARGET'})\n",
    "    # (Optional) Move TARGET to end\n",
    "    if 'TARGET' in df.columns:\n",
    "        cols = [c for c in df.columns if c != 'TARGET'] + ['TARGET']\n",
    "        df = df[cols]\n",
    "    return df\n",
    "\n",
    "manual_ready = standardize_target(merged_manual)\n",
    "copula_ready = standardize_target(merged_copula)\n",
    "ctgan_ready = standardize_target(merged_ctgan)\n",
    "print(\"Target columns standardized.\")\n"
   ]
  },
  {
   "cell_type": "markdown",
   "metadata": {},
   "source": [
    "Quick Sanity Check—Does TARGET Look Correct?"
   ]
  },
  {
   "cell_type": "code",
   "execution_count": 12,
   "metadata": {},
   "outputs": [
    {
     "name": "stdout",
     "output_type": "stream",
     "text": [
      "Manual default rate: 0.0807\n",
      "Copula default rate: 0.0807\n",
      "CTGAN default rate: 0.0807\n"
     ]
    }
   ],
   "source": [
    "print(\"Manual default rate:\", manual_ready['TARGET'].mean())\n",
    "print(\"Copula default rate:\", copula_ready['TARGET'].mean())\n",
    "print(\"CTGAN default rate:\", ctgan_ready['TARGET'].mean())\n"
   ]
  },
  {
   "cell_type": "markdown",
   "metadata": {},
   "source": [
    "Save Cleaned Merged Datasets"
   ]
  },
  {
   "cell_type": "code",
   "execution_count": 13,
   "metadata": {},
   "outputs": [
    {
     "name": "stdout",
     "output_type": "stream",
     "text": [
      "Cleaned merged datasets saved.\n"
     ]
    }
   ],
   "source": [
    "manual_ready.to_csv(\"/home/frederickerleigh/Dokumente/Fintech Seminar/NewCode/FintechSeminar-Synthetic-Dataset/fintech-credit-scoring-seminar/data/processed/merged/ready/merged_manual_ready.csv\", index=False)\n",
    "copula_ready.to_csv(\"/home/frederickerleigh/Dokumente/Fintech Seminar/NewCode/FintechSeminar-Synthetic-Dataset/fintech-credit-scoring-seminar/data/processed/merged/ready/merged_copula_ready.csv\", index=False)\n",
    "ctgan_ready.to_csv(\"/home/frederickerleigh/Dokumente/Fintech Seminar/NewCode/FintechSeminar-Synthetic-Dataset/fintech-credit-scoring-seminar/data/processed/merged/ready/merged_ctgan_ready.csv\", index=False)\n",
    "print(\"Cleaned merged datasets saved.\")\n"
   ]
  },
  {
   "cell_type": "markdown",
   "metadata": {},
   "source": [
    "# 05: Cleaning Merged Datasets — Remove Extra Target Columns\n",
    "\n",
    "This notebook ensures all merged datasets contain only one correct target column (`TARGET` or `home_TARGET`) and removes unnecessary duplicates (such as `synth_DEFAULT_SYNTH`). This is necessary before encoding, modeling, and final analysis.\n"
   ]
  },
  {
   "cell_type": "code",
   "execution_count": null,
   "metadata": {},
   "outputs": [],
   "source": [
    "# Load merged datasets\n",
    "import pandas as pd\n",
    "\n",
    "merged_manual = pd.read_csv(\"/home/frederickerleigh/Dokumente/Fintech Seminar/NewCode/FintechSeminar-Synthetic-Dataset/fintech-credit-scoring-seminar/data/processed/merged/merged_homecredit_manual_fp.csv\")\n",
    "merged_copula = pd.read_csv(\"/home/frederickerleigh/Dokumente/Fintech Seminar/NewCode/FintechSeminar-Synthetic-Dataset/fintech-credit-scoring-seminar/data/processed/merged/merged_homecredit_copula_fp.csv\")\n",
    "merged_ctgan = pd.read_csv(\"/home/frederickerleigh/Dokumente/Fintech Seminar/NewCode/FintechSeminar-Synthetic-Dataset/fintech-credit-scoring-seminar/data/processed/merged/merged_homecredit_ctgan_fp.csv\")\n",
    "\n",
    "print(\"Shapes:\")\n",
    "print(\"Manual:\", merged_manual.shape)\n",
    "print(\"Copula:\", merged_copula.shape)\n",
    "print(\"CTGAN:\", merged_ctgan.shape)\n"
   ]
  }
 ],
 "metadata": {
  "kernelspec": {
   "display_name": "venv",
   "language": "python",
   "name": "python3"
  },
  "language_info": {
   "codemirror_mode": {
    "name": "ipython",
    "version": 3
   },
   "file_extension": ".py",
   "mimetype": "text/x-python",
   "name": "python",
   "nbconvert_exporter": "python",
   "pygments_lexer": "ipython3",
   "version": "3.10.12"
  }
 },
 "nbformat": 4,
 "nbformat_minor": 2
}
